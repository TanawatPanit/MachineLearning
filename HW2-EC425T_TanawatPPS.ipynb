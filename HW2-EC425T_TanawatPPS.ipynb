{
 "cells": [
  {
   "cell_type": "markdown",
   "id": "a6734eeb",
   "metadata": {},
   "source": [
    "# Problem 3"
   ]
  },
  {
   "cell_type": "code",
   "execution_count": 17,
   "id": "f047a00a",
   "metadata": {},
   "outputs": [],
   "source": [
    "import matplotlib.pyplot as plt\n",
    "import numpy as np\n",
    "import pandas as pd\n",
    "import statsmodels.formula.api as smf\n",
    "import scipy.stats as stats\n",
    "import seaborn as sns\n",
    "import statsmodels.api as sm\n",
    "import statsmodels.stats.outliers_influence as smo\n",
    "import patsy as pt\n",
    "import statsmodels.stats.api as sms\n",
    "from simple_colors import *\n",
    "from sklearn.metrics import mean_squared_error\n",
    "from sklearn.preprocessing import PolynomialFeatures\n",
    "from sklearn.linear_model import LinearRegression\n",
    "from sklearn.model_selection import train_test_split\n",
    "from scipy.stats import truncnorm\n",
    "from sklearn.model_selection import LeaveOneOut\n",
    "from sklearn.model_selection import cross_val_score, KFold\n",
    "from sklearn.linear_model import LogisticRegression\n",
    "from sklearn.preprocessing import StandardScaler\n",
    "from sklearn.metrics import confusion_matrix, accuracy_score, precision_score, recall_score, f1_score"
   ]
  },
  {
   "cell_type": "code",
   "execution_count": 4,
   "id": "dccef301",
   "metadata": {},
   "outputs": [
    {
     "data": {
      "text/html": [
       "<div>\n",
       "<style scoped>\n",
       "    .dataframe tbody tr th:only-of-type {\n",
       "        vertical-align: middle;\n",
       "    }\n",
       "\n",
       "    .dataframe tbody tr th {\n",
       "        vertical-align: top;\n",
       "    }\n",
       "\n",
       "    .dataframe thead th {\n",
       "        text-align: right;\n",
       "    }\n",
       "</style>\n",
       "<table border=\"1\" class=\"dataframe\">\n",
       "  <thead>\n",
       "    <tr style=\"text-align: right;\">\n",
       "      <th></th>\n",
       "      <th>Year</th>\n",
       "      <th>Lag1</th>\n",
       "      <th>Lag2</th>\n",
       "      <th>Lag3</th>\n",
       "      <th>Lag4</th>\n",
       "      <th>Lag5</th>\n",
       "      <th>Volume</th>\n",
       "      <th>Today</th>\n",
       "      <th>Direction</th>\n",
       "    </tr>\n",
       "  </thead>\n",
       "  <tbody>\n",
       "    <tr>\n",
       "      <th>0</th>\n",
       "      <td>1990</td>\n",
       "      <td>0.816</td>\n",
       "      <td>1.572</td>\n",
       "      <td>-3.936</td>\n",
       "      <td>-0.229</td>\n",
       "      <td>-3.484</td>\n",
       "      <td>0.154976</td>\n",
       "      <td>-0.270</td>\n",
       "      <td>Down</td>\n",
       "    </tr>\n",
       "    <tr>\n",
       "      <th>1</th>\n",
       "      <td>1990</td>\n",
       "      <td>-0.270</td>\n",
       "      <td>0.816</td>\n",
       "      <td>1.572</td>\n",
       "      <td>-3.936</td>\n",
       "      <td>-0.229</td>\n",
       "      <td>0.148574</td>\n",
       "      <td>-2.576</td>\n",
       "      <td>Down</td>\n",
       "    </tr>\n",
       "    <tr>\n",
       "      <th>2</th>\n",
       "      <td>1990</td>\n",
       "      <td>-2.576</td>\n",
       "      <td>-0.270</td>\n",
       "      <td>0.816</td>\n",
       "      <td>1.572</td>\n",
       "      <td>-3.936</td>\n",
       "      <td>0.159837</td>\n",
       "      <td>3.514</td>\n",
       "      <td>Up</td>\n",
       "    </tr>\n",
       "    <tr>\n",
       "      <th>3</th>\n",
       "      <td>1990</td>\n",
       "      <td>3.514</td>\n",
       "      <td>-2.576</td>\n",
       "      <td>-0.270</td>\n",
       "      <td>0.816</td>\n",
       "      <td>1.572</td>\n",
       "      <td>0.161630</td>\n",
       "      <td>0.712</td>\n",
       "      <td>Up</td>\n",
       "    </tr>\n",
       "    <tr>\n",
       "      <th>4</th>\n",
       "      <td>1990</td>\n",
       "      <td>0.712</td>\n",
       "      <td>3.514</td>\n",
       "      <td>-2.576</td>\n",
       "      <td>-0.270</td>\n",
       "      <td>0.816</td>\n",
       "      <td>0.153728</td>\n",
       "      <td>1.178</td>\n",
       "      <td>Up</td>\n",
       "    </tr>\n",
       "  </tbody>\n",
       "</table>\n",
       "</div>"
      ],
      "text/plain": [
       "   Year   Lag1   Lag2   Lag3   Lag4   Lag5    Volume  Today Direction\n",
       "0  1990  0.816  1.572 -3.936 -0.229 -3.484  0.154976 -0.270      Down\n",
       "1  1990 -0.270  0.816  1.572 -3.936 -0.229  0.148574 -2.576      Down\n",
       "2  1990 -2.576 -0.270  0.816  1.572 -3.936  0.159837  3.514        Up\n",
       "3  1990  3.514 -2.576 -0.270  0.816  1.572  0.161630  0.712        Up\n",
       "4  1990  0.712  3.514 -2.576 -0.270  0.816  0.153728  1.178        Up"
      ]
     },
     "execution_count": 4,
     "metadata": {},
     "output_type": "execute_result"
    }
   ],
   "source": [
    "#read data\n",
    "df = pd.read_csv(\"weekly.csv\")\n",
    "df.head()"
   ]
  },
  {
   "cell_type": "code",
   "execution_count": 6,
   "id": "268815ea",
   "metadata": {},
   "outputs": [],
   "source": [
    "# Encode the target variable 'Direction'\n",
    "# 1 if 'Up', 0 if 'Down'\n",
    "df['Direction'] = df['Direction'].apply(lambda x: 1 if x == 'Up' else 0)"
   ]
  },
  {
   "cell_type": "code",
   "execution_count": 7,
   "id": "387f3442",
   "metadata": {},
   "outputs": [
    {
     "data": {
      "text/html": [
       "<div>\n",
       "<style scoped>\n",
       "    .dataframe tbody tr th:only-of-type {\n",
       "        vertical-align: middle;\n",
       "    }\n",
       "\n",
       "    .dataframe tbody tr th {\n",
       "        vertical-align: top;\n",
       "    }\n",
       "\n",
       "    .dataframe thead th {\n",
       "        text-align: right;\n",
       "    }\n",
       "</style>\n",
       "<table border=\"1\" class=\"dataframe\">\n",
       "  <thead>\n",
       "    <tr style=\"text-align: right;\">\n",
       "      <th></th>\n",
       "      <th>Year</th>\n",
       "      <th>Lag1</th>\n",
       "      <th>Lag2</th>\n",
       "      <th>Lag3</th>\n",
       "      <th>Lag4</th>\n",
       "      <th>Lag5</th>\n",
       "      <th>Volume</th>\n",
       "      <th>Today</th>\n",
       "      <th>Direction</th>\n",
       "    </tr>\n",
       "  </thead>\n",
       "  <tbody>\n",
       "    <tr>\n",
       "      <th>0</th>\n",
       "      <td>1990</td>\n",
       "      <td>0.816</td>\n",
       "      <td>1.572</td>\n",
       "      <td>-3.936</td>\n",
       "      <td>-0.229</td>\n",
       "      <td>-3.484</td>\n",
       "      <td>0.154976</td>\n",
       "      <td>-0.270</td>\n",
       "      <td>0</td>\n",
       "    </tr>\n",
       "    <tr>\n",
       "      <th>1</th>\n",
       "      <td>1990</td>\n",
       "      <td>-0.270</td>\n",
       "      <td>0.816</td>\n",
       "      <td>1.572</td>\n",
       "      <td>-3.936</td>\n",
       "      <td>-0.229</td>\n",
       "      <td>0.148574</td>\n",
       "      <td>-2.576</td>\n",
       "      <td>0</td>\n",
       "    </tr>\n",
       "    <tr>\n",
       "      <th>2</th>\n",
       "      <td>1990</td>\n",
       "      <td>-2.576</td>\n",
       "      <td>-0.270</td>\n",
       "      <td>0.816</td>\n",
       "      <td>1.572</td>\n",
       "      <td>-3.936</td>\n",
       "      <td>0.159837</td>\n",
       "      <td>3.514</td>\n",
       "      <td>1</td>\n",
       "    </tr>\n",
       "    <tr>\n",
       "      <th>3</th>\n",
       "      <td>1990</td>\n",
       "      <td>3.514</td>\n",
       "      <td>-2.576</td>\n",
       "      <td>-0.270</td>\n",
       "      <td>0.816</td>\n",
       "      <td>1.572</td>\n",
       "      <td>0.161630</td>\n",
       "      <td>0.712</td>\n",
       "      <td>1</td>\n",
       "    </tr>\n",
       "    <tr>\n",
       "      <th>4</th>\n",
       "      <td>1990</td>\n",
       "      <td>0.712</td>\n",
       "      <td>3.514</td>\n",
       "      <td>-2.576</td>\n",
       "      <td>-0.270</td>\n",
       "      <td>0.816</td>\n",
       "      <td>0.153728</td>\n",
       "      <td>1.178</td>\n",
       "      <td>1</td>\n",
       "    </tr>\n",
       "  </tbody>\n",
       "</table>\n",
       "</div>"
      ],
      "text/plain": [
       "   Year   Lag1   Lag2   Lag3   Lag4   Lag5    Volume  Today  Direction\n",
       "0  1990  0.816  1.572 -3.936 -0.229 -3.484  0.154976 -0.270          0\n",
       "1  1990 -0.270  0.816  1.572 -3.936 -0.229  0.148574 -2.576          0\n",
       "2  1990 -2.576 -0.270  0.816  1.572 -3.936  0.159837  3.514          1\n",
       "3  1990  3.514 -2.576 -0.270  0.816  1.572  0.161630  0.712          1\n",
       "4  1990  0.712  3.514 -2.576 -0.270  0.816  0.153728  1.178          1"
      ]
     },
     "execution_count": 7,
     "metadata": {},
     "output_type": "execute_result"
    }
   ],
   "source": [
    "df.head()"
   ]
  },
  {
   "cell_type": "code",
   "execution_count": 14,
   "id": "18ed1802",
   "metadata": {},
   "outputs": [
    {
     "name": "stdout",
     "output_type": "stream",
     "text": [
      "Coefficients: [-0.04123854  0.05840384 -0.01605138 -0.02776243 -0.01446302 -0.02270963]\n",
      "Intercept: 0.26680421889910433\n"
     ]
    }
   ],
   "source": [
    "# Select predictors\n",
    "X = df[['Lag1', 'Lag2', 'Lag3', 'Lag4', 'Lag5', 'Volume']]\n",
    "\n",
    "# Target variable\n",
    "y = df['Direction']\n",
    "\n",
    "# Fit the logistic regression model\n",
    "logit_model = LogisticRegression()\n",
    "logit_model.fit(X, y)\n",
    "\n",
    "# Coefficients and intercept\n",
    "coefficients = logit_model.coef_[0]\n",
    "intercept = logit_model.intercept_[0]\n",
    "\n",
    "# Output the coefficients and intercept\n",
    "print('Coefficients:', coefficients)\n",
    "print('Intercept:', intercept)"
   ]
  },
  {
   "cell_type": "markdown",
   "id": "38ca1279",
   "metadata": {},
   "source": [
    "### a) The Coefficients above shows average change of log-odds of the stock moving up if one independent variable changes 1 unit given other variables remain constant. The Intercept represents the log-odds of the stock moving up when all the variables are equal to zero."
   ]
  },
  {
   "cell_type": "code",
   "execution_count": 18,
   "id": "2d728286",
   "metadata": {},
   "outputs": [
    {
     "data": {
      "image/png": "[encoded data removed]",
      "text/plain": [
       "<Figure size 640x480 with 2 Axes>"
      ]
     },
     "metadata": {},
     "output_type": "display_data"
    },
    {
     "name": "stdout",
     "output_type": "stream",
     "text": [
      "Confusion Matrix:\n",
      " [[ 54 430]\n",
      " [ 48 557]]\n",
      "Accuracy: 0.5610651974288338\n",
      "Precision: 0.5643363728470111\n",
      "Recall: 0.9206611570247933\n",
      "F1 Score: 0.6997487437185929\n"
     ]
    }
   ],
   "source": [
    "# Predictions\n",
    "y_pred = logit_model.predict(X)\n",
    "\n",
    "# Calculate confusion matrix\n",
    "conf_matrix = confusion_matrix(y, y_pred)\n",
    "\n",
    "# Calculate accuracy\n",
    "accuracy = accuracy_score(y, y_pred)\n",
    "\n",
    "# Calculate precision\n",
    "precision = precision_score(y, y_pred)\n",
    "\n",
    "# Calculate recall\n",
    "recall = recall_score(y, y_pred)\n",
    "\n",
    "# Calculate F1 score\n",
    "f1 = f1_score(y, y_pred)\n",
    "\n",
    "# Output the performance metrics\n",
    "sns.heatmap(conf_matrix, annot=True, fmt='g', cmap='Blues', \n",
    "            xticklabels=['Predicted Down', 'Predicted Up'], \n",
    "            yticklabels=['Actual Down', 'Actual Up'])\n",
    "\n",
    "plt.title('Confusion Matrix')\n",
    "plt.xlabel('Predicted Label')\n",
    "plt.ylabel('True Label')\n",
    "plt.show()\n",
    "print('Accuracy:', accuracy)\n",
    "print('Precision:', precision)\n",
    "print('Recall:', recall)\n",
    "print('F1 Score:', f1)\n"
   ]
  },
  {
   "cell_type": "markdown",
   "id": "12615c21",
   "metadata": {},
   "source": [
    "### b) From the ratios above Recall > Precious > Accruracy > 50% while 50% represents average performance of random guessing. Hence, the model beats random guessing in terms of these performance metrics."
   ]
  },
  {
   "cell_type": "code",
   "execution_count": 23,
   "id": "24988a3c",
   "metadata": {},
   "outputs": [
    {
     "data": {
      "image/png": "[encoded data removed]",
      "text/plain": [
       "<Figure size 1000x600 with 1 Axes>"
      ]
     },
     "metadata": {},
     "output_type": "display_data"
    }
   ],
   "source": [
    "# Initialize lists to store precision and recall values\n",
    "precision_list = []\n",
    "recall_list = []\n",
    "threshold_list = np.linspace(0, 1, 3000)  # 3000 thresholds from 0 to 1\n",
    "\n",
    "for threshold in threshold_list:\n",
    "    # Convert probabilities to binary predictions based on the threshold\n",
    "    y_pred_threshold = (y_probs >= threshold).astype(int)\n",
    "    \n",
    "    # Calculate precision and recall using sklearn functions\n",
    "    precision = precision_score(y, y_pred_threshold, zero_division=0)\n",
    "    recall = recall_score(y, y_pred_threshold, zero_division=0)\n",
    "    \n",
    "    # Append precision and recall to lists\n",
    "    precision_list.append(precision)\n",
    "    recall_list.append(recall)\n",
    "\n",
    "# Plotting\n",
    "plt.figure(figsize=(10, 6))\n",
    "plt.plot(threshold_list, precision_list, label='Precision')\n",
    "plt.plot(threshold_list, recall_list, label='Recall')\n",
    "plt.title('Precision and Recall vs Threshold')\n",
    "plt.xlabel('Threshold')\n",
    "plt.ylabel('Precision/Recall')\n",
    "plt.legend()\n",
    "plt.show()"
   ]
  },
  {
   "cell_type": "markdown",
   "id": "3003b685",
   "metadata": {},
   "source": [
    "### c) Recall means TP/(TP+FN). If threshold increases, the model will predict the less number of positive prediction. Then, we will have a smaller number of TP and a number of FN. This makes Recall decrease when threshold increases.\n",
    "### Precision means TP/(TP+FP).  If threshold increases, the model will predict the less number of positive prediction. Then, we will have a smaller number of TP and FP. This makes Precision change depends on the decreasing of TP and FP when threshold increases. However, when the threshold is very high until there is no positive prediction, we will get Precision = 0/0 which is undifined number."
   ]
  },
  {
   "cell_type": "code",
   "execution_count": 26,
   "id": "cdf4f92a",
   "metadata": {},
   "outputs": [
    {
     "name": "stdout",
     "output_type": "stream",
     "text": [
      "Coefficients for Lag2: [0.05804742]\n",
      "Intercept: 0.20326235542995563\n"
     ]
    }
   ],
   "source": [
    "# Filter the data to include only years up to and including 2008\n",
    "df_2008 = df[df['Year'] <= 2008]\n",
    "\n",
    "# Select Lag2 as the predictor\n",
    "X_2008 = df_2008[['Lag2']]\n",
    "\n",
    "# Target variable\n",
    "y_2008 = df_2008['Direction']\n",
    "\n",
    "# Fit the logistic regression model\n",
    "logit_model_lag2 = LogisticRegression()\n",
    "logit_model_lag2.fit(X_2008, y_2008)\n",
    "\n",
    "# Coefficients and intercept\n",
    "coefficients_lag2 = logit_model_lag2.coef_[0]\n",
    "intercept_lag2 = logit_model_lag2.intercept_[0]\n",
    "\n",
    "# Output the coefficients and intercept\n",
    "print('Coefficients for Lag2:', coefficients_lag2)\n",
    "print('Intercept:', intercept_lag2)\n"
   ]
  },
  {
   "cell_type": "markdown",
   "id": "9d9c2acf",
   "metadata": {},
   "source": [
    "### d) The new model (coefficient of Lag2 and intercept) was displayed above."
   ]
  },
  {
   "cell_type": "code",
   "execution_count": 25,
   "id": "009c6b75",
   "metadata": {},
   "outputs": [
    {
     "data": {
      "image/png": "[encoded data removed]",
      "text/plain": [
       "<Figure size 640x480 with 2 Axes>"
      ]
     },
     "metadata": {},
     "output_type": "display_data"
    },
    {
     "name": "stdout",
     "output_type": "stream",
     "text": [
      "Test Set Performance Metrics:\n",
      "Accuracy: 0.625\n",
      "Precision: 0.6222222222222222\n",
      "Recall: 0.9180327868852459\n",
      "F1 Score: 0.7417218543046358\n"
     ]
    }
   ],
   "source": [
    "# Filter the data for test set\n",
    "df_test = df[df['Year'] > 2008]\n",
    "X_test = df_test[['Lag2']]\n",
    "y_test = df_test['Direction']\n",
    "\n",
    "# Make predictions on the test set\n",
    "y_pred_test = logit_model_lag2.predict(X_test)\n",
    "\n",
    "# Calculate the confusion matrix\n",
    "conf_matrix_test = confusion_matrix(y_test, y_pred_test)\n",
    "\n",
    "# Visualize confusion matrix with Seaborn\n",
    "sns.heatmap(conf_matrix_test, annot=True, fmt='g', cmap='Blues', \n",
    "            xticklabels=['Predicted Down', 'Predicted Up'], \n",
    "            yticklabels=['Actual Down', 'Actual Up'])\n",
    "\n",
    "plt.title('Confusion Matrix (Test Set)')\n",
    "plt.xlabel('Predicted Label')\n",
    "plt.ylabel('True Label')\n",
    "plt.show()\n",
    "\n",
    "# Calculate other performance metrics for the test set\n",
    "accuracy_test = accuracy_score(y_test, y_pred_test)\n",
    "precision_test = precision_score(y_test, y_pred_test, zero_division=0)\n",
    "recall_test = recall_score(y_test, y_pred_test, zero_division=0)\n",
    "f1_test = f1_score(y_test, y_pred_test, zero_division=0)\n",
    "\n",
    "# Output the performance metrics\n",
    "print('Test Set Performance Metrics:')\n",
    "print('Accuracy:', accuracy_test)\n",
    "print('Precision:', precision_test)\n",
    "print('Recall:', recall_test)\n",
    "print('F1 Score:', f1_test)\n"
   ]
  },
  {
   "cell_type": "markdown",
   "id": "889cc34e",
   "metadata": {},
   "source": [
    "### e) Test set confusion metrix and performance metrics were displayed above."
   ]
  },
  {
   "cell_type": "markdown",
   "id": "2d848263",
   "metadata": {},
   "source": [
    "### f) Overall, the simplified model (only Lag2) outperformed the original model in terms of performance metrics. However, I will choose the original model since it is more generalized and can adapt to unseen data in the future more than the simplified model. The simplified model's performance might outperform the other model in some period but it cannot conclude that the simplified model is the better model in the future."
   ]
  }
 ],
 "metadata": {
  "kernelspec": {
   "display_name": "Python 3 (ipykernel)",
   "language": "python",
   "name": "python3"
  },
  "language_info": {
   "codemirror_mode": {
    "name": "ipython",
    "version": 3
   },
   "file_extension": ".py",
   "mimetype": "text/x-python",
   "name": "python",
   "nbconvert_exporter": "python",
   "pygments_lexer": "ipython3",
   "version": "3.11.5"
  }
 },
 "nbformat": 4,
 "nbformat_minor": 5
}
